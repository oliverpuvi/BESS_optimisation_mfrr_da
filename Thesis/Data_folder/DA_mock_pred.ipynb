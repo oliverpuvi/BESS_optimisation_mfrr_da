{
 "cells": [
  {
   "cell_type": "code",
   "execution_count": 1,
   "id": "9e0f67df-6d49-433f-8c26-8af811d2e41a",
   "metadata": {},
   "outputs": [],
   "source": [
    "import numpy as np\n",
    "import pandas as pd\n",
    "from sklearn.metrics import mean_absolute_error, mean_squared_error"
   ]
  },
  {
   "cell_type": "code",
   "execution_count": 2,
   "id": "0248e2c0-0e8a-4060-a8d1-3e766b360de0",
   "metadata": {
    "scrolled": true
   },
   "outputs": [],
   "source": [
    "df_elering = pd.read_csv('../Data_folder/elering_da_data.csv', sep=';')"
   ]
  },
  {
   "cell_type": "code",
   "execution_count": 3,
   "id": "b1a865dd-f9bd-4ca7-8451-0c89e958ac63",
   "metadata": {},
   "outputs": [
    {
     "name": "stdout",
     "output_type": "stream",
     "text": [
      "12\n"
     ]
    },
    {
     "data": {
      "text/html": [
       "<div>\n",
       "<style scoped>\n",
       "    .dataframe tbody tr th:only-of-type {\n",
       "        vertical-align: middle;\n",
       "    }\n",
       "\n",
       "    .dataframe tbody tr th {\n",
       "        vertical-align: top;\n",
       "    }\n",
       "\n",
       "    .dataframe thead th {\n",
       "        text-align: right;\n",
       "    }\n",
       "</style>\n",
       "<table border=\"1\" class=\"dataframe\">\n",
       "  <thead>\n",
       "    <tr style=\"text-align: right;\">\n",
       "      <th></th>\n",
       "      <th>proportionality_factor</th>\n",
       "      <th>scale_noise</th>\n",
       "      <th>slope_scale</th>\n",
       "      <th>intercept</th>\n",
       "      <th>MAE</th>\n",
       "      <th>RMSE</th>\n",
       "    </tr>\n",
       "  </thead>\n",
       "  <tbody>\n",
       "    <tr>\n",
       "      <th>0</th>\n",
       "      <td>0.000</td>\n",
       "      <td>0.000</td>\n",
       "      <td>0.074</td>\n",
       "      <td>0</td>\n",
       "      <td>5.4450</td>\n",
       "      <td>7.9629</td>\n",
       "    </tr>\n",
       "    <tr>\n",
       "      <th>1</th>\n",
       "      <td>0.000</td>\n",
       "      <td>0.003</td>\n",
       "      <td>0.076</td>\n",
       "      <td>0</td>\n",
       "      <td>5.4550</td>\n",
       "      <td>7.9354</td>\n",
       "    </tr>\n",
       "    <tr>\n",
       "      <th>2</th>\n",
       "      <td>0.000</td>\n",
       "      <td>0.091</td>\n",
       "      <td>0.075</td>\n",
       "      <td>0</td>\n",
       "      <td>5.4511</td>\n",
       "      <td>7.9264</td>\n",
       "    </tr>\n",
       "    <tr>\n",
       "      <th>3</th>\n",
       "      <td>0.000</td>\n",
       "      <td>0.131</td>\n",
       "      <td>0.075</td>\n",
       "      <td>0</td>\n",
       "      <td>5.4668</td>\n",
       "      <td>7.9058</td>\n",
       "    </tr>\n",
       "    <tr>\n",
       "      <th>4</th>\n",
       "      <td>0.001</td>\n",
       "      <td>0.085</td>\n",
       "      <td>0.076</td>\n",
       "      <td>0</td>\n",
       "      <td>5.4535</td>\n",
       "      <td>7.9002</td>\n",
       "    </tr>\n",
       "  </tbody>\n",
       "</table>\n",
       "</div>"
      ],
      "text/plain": [
       "   proportionality_factor  scale_noise  slope_scale  intercept     MAE    RMSE\n",
       "0                   0.000        0.000        0.074          0  5.4450  7.9629\n",
       "1                   0.000        0.003        0.076          0  5.4550  7.9354\n",
       "2                   0.000        0.091        0.075          0  5.4511  7.9264\n",
       "3                   0.000        0.131        0.075          0  5.4668  7.9058\n",
       "4                   0.001        0.085        0.076          0  5.4535  7.9002"
      ]
     },
     "execution_count": 3,
     "metadata": {},
     "output_type": "execute_result"
    }
   ],
   "source": [
    "\n",
    "target_mae = 5.444\n",
    "target_rmse = 7.152\n",
    "\n",
    "results_3 = []\n",
    "best_metrics = {'rmse': np.inf, 'mae': np.inf}\n",
    "temp_best_metrics = {'mae': 100, 'rmse': 100}\n",
    "\n",
    "best_achieved_mae = 10e6\n",
    "best_achieved_rmse = 10e6\n",
    "\n",
    "DA_price = df_elering['DA_price'].values\n",
    "\n",
    "global_score = 10e6\n",
    "\n",
    "\n",
    "\n",
    "np.random.seed(31)\n",
    "for proportionality_factor in np.arange(0.00, 0.101, 0.001):\n",
    "    scaling_factor = np.abs(DA_price) * proportionality_factor\n",
    "\n",
    "    for scale_noise in np.arange(0.00, 0.181, 0.001):\n",
    "        variable_noise = np.random.normal(0, scale_noise, size=DA_price.shape[0]) * scaling_factor\n",
    "\n",
    "        for slope_scale in np.arange(0.00, 0.081, 0.001):\n",
    "            slope = np.random.normal(1, slope_scale, size=DA_price.shape[0])\n",
    "            predictions = DA_price * slope + variable_noise\n",
    "\n",
    "            achieved_MAE = mean_absolute_error(DA_price, predictions)\n",
    "            achieved_RMSE = np.sqrt(mean_squared_error(DA_price, predictions))\n",
    "\n",
    "            if achieved_MAE > target_mae and achieved_RMSE > target_rmse:\n",
    "\n",
    "                local_score = (np.abs(achieved_MAE - target_mae)*1.3 + np.abs(achieved_RMSE - target_rmse))/2\n",
    "\n",
    "                if local_score < global_score:\n",
    "                    \n",
    "                    best_preds = predictions\n",
    "                    best_achieved_mae = np.abs(achieved_MAE - target_mae)\n",
    "                    best_achieved_rmse = np.abs(achieved_RMSE - target_rmse)\n",
    "                    global_score = local_score\n",
    "\n",
    "                    if local_score < 0.5:\n",
    "                        results_3.append({\n",
    "                                'proportionality_factor': round(proportionality_factor, 4),\n",
    "                                'scale_noise': round(scale_noise, 4),\n",
    "                                'slope_scale': round(slope_scale, 4),\n",
    "                                'intercept': 0,  # Intercept is always 0 in your setup\n",
    "                                'MAE': round(achieved_MAE, 4),\n",
    "                                'RMSE': round(achieved_RMSE, 4)\n",
    "                            })\n",
    "\n",
    "results_df_3 = pd.DataFrame(results_3)\n",
    "print(len(results_df_3))\n",
    "results_df_3.head()\n"
   ]
  },
  {
   "cell_type": "code",
   "execution_count": 4,
   "id": "8edd7b7f-c169-4f59-8b6f-b533f565cd5c",
   "metadata": {},
   "outputs": [],
   "source": [
    "df_elering['fake_pred'] = best_preds\n",
    "\n",
    "df_elering['fake_pred'] = [round(i, 2) for i in df_elering['fake_pred']]\n",
    "\n",
    "df_elering\n",
    "df_elering.to_csv('da_and_fake_pred.csv', sep=';')\n"
   ]
  }
 ],
 "metadata": {
  "kernelspec": {
   "display_name": "Python 3",
   "language": "python",
   "name": "python3"
  },
  "language_info": {
   "codemirror_mode": {
    "name": "ipython",
    "version": 3
   },
   "file_extension": ".py",
   "mimetype": "text/x-python",
   "name": "python",
   "nbconvert_exporter": "python",
   "pygments_lexer": "ipython3",
   "version": "3.8.18"
  }
 },
 "nbformat": 4,
 "nbformat_minor": 5
}
